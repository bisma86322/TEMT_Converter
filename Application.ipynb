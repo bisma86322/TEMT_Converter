{
  "nbformat": 4,
  "nbformat_minor": 0,
  "metadata": {
    "colab": {
      "provenance": [],
      "authorship_tag": "ABX9TyNX4F0EfE8oBHFswhQsxe9w",
      "include_colab_link": true
    },
    "kernelspec": {
      "name": "python3",
      "display_name": "Python 3"
    },
    "language_info": {
      "name": "python"
    }
  },
  "cells": [
    {
      "cell_type": "markdown",
      "metadata": {
        "id": "view-in-github",
        "colab_type": "text"
      },
      "source": [
        "<a href=\"https://colab.research.google.com/github/bisma86322/TEMT_Converter/blob/main/Application.ipynb\" target=\"_parent\"><img src=\"https://colab.research.google.com/assets/colab-badge.svg\" alt=\"Open In Colab\"/></a>"
      ]
    },
    {
      "cell_type": "code",
      "execution_count": 4,
      "metadata": {
        "colab": {
          "base_uri": "https://localhost:8080/"
        },
        "id": "33JuazZBXVMi",
        "outputId": "ffb78951-78e3-4734-edbb-990f3d50230c"
      },
      "outputs": [
        {
          "output_type": "stream",
          "name": "stdout",
          "text": [
            "Select the conversion type:\n",
            "1: Convert Celsius to Fahrenheit\n",
            "2: Convert Fahrenheit to Celsius\n",
            "Enter 1 or 2: 2\n",
            "Enter temperature in Fahrenheit: 54\n",
            "54.0°F is equal to 12.22°C\n"
          ]
        }
      ],
      "source": [
        "# Function to convert Celsius to Fahrenheit\n",
        "def celsius_to_fahrenheit(celsius):\n",
        "    return (celsius * 9/5) + 32\n",
        "\n",
        "# Function to convert Fahrenheit to Celsius\n",
        "def fahrenheit_to_celsius(fahrenheit):\n",
        "    return (fahrenheit - 32) * 5/9\n",
        "\n",
        "# Menu for the user to choose the conversion type\n",
        "def temperature_converter():\n",
        "    print(\"Select the conversion type:\")\n",
        "    print(\"1: Convert Celsius to Fahrenheit\")\n",
        "    print(\"2: Convert Fahrenheit to Celsius\")\n",
        "\n",
        "    choice = int(input(\"Enter 1 or 2: \"))\n",
        "\n",
        "    if choice == 1:\n",
        "        celsius = float(input(\"Enter temperature in Celsius: \"))\n",
        "        print(f\"{celsius}°C is equal to {celsius_to_fahrenheit(celsius):.2f}°F\")\n",
        "\n",
        "    elif choice == 2:\n",
        "        fahrenheit = float(input(\"Enter temperature in Fahrenheit: \"))\n",
        "        print(f\"{fahrenheit}°F is equal to {fahrenheit_to_celsius(fahrenheit):.2f}°C\")\n",
        "\n",
        "    else:\n",
        "        print(\"Invalid input! Please enter 1 or 2.\")\n",
        "\n",
        "# Run the temperature converter\n",
        "temperature_converter()\n",
        "\n"
      ]
    }
  ]
}
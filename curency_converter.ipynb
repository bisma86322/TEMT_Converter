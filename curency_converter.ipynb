{
  "nbformat": 4,
  "nbformat_minor": 0,
  "metadata": {
    "colab": {
      "provenance": [],
      "authorship_tag": "ABX9TyMpXNXfwTLGRZlY2jHPxWbw",
      "include_colab_link": true
    },
    "kernelspec": {
      "name": "python3",
      "display_name": "Python 3"
    },
    "language_info": {
      "name": "python"
    }
  },
  "cells": [
    {
      "cell_type": "markdown",
      "metadata": {
        "id": "view-in-github",
        "colab_type": "text"
      },
      "source": [
        "<a href=\"https://colab.research.google.com/github/bisma86322/TEMT_Converter/blob/main/curency_converter.ipynb\" target=\"_parent\"><img src=\"https://colab.research.google.com/assets/colab-badge.svg\" alt=\"Open In Colab\"/></a>"
      ]
    },
    {
      "cell_type": "code",
      "source": [
        "pip install forex-python\n"
      ],
      "metadata": {
        "colab": {
          "base_uri": "https://localhost:8080/"
        },
        "id": "HnjrgSvriIwB",
        "outputId": "fb10e16c-5387-4db2-c360-6f22fa0364e7"
      },
      "execution_count": 9,
      "outputs": [
        {
          "output_type": "stream",
          "name": "stdout",
          "text": [
            "Requirement already satisfied: forex-python in /usr/local/lib/python3.10/dist-packages (1.8)\n",
            "Requirement already satisfied: requests in /usr/local/lib/python3.10/dist-packages (from forex-python) (2.32.3)\n",
            "Requirement already satisfied: simplejson in /usr/local/lib/python3.10/dist-packages (from forex-python) (3.19.3)\n",
            "Requirement already satisfied: charset-normalizer<4,>=2 in /usr/local/lib/python3.10/dist-packages (from requests->forex-python) (3.4.0)\n",
            "Requirement already satisfied: idna<4,>=2.5 in /usr/local/lib/python3.10/dist-packages (from requests->forex-python) (3.10)\n",
            "Requirement already satisfied: urllib3<3,>=1.21.1 in /usr/local/lib/python3.10/dist-packages (from requests->forex-python) (2.2.3)\n",
            "Requirement already satisfied: certifi>=2017.4.17 in /usr/local/lib/python3.10/dist-packages (from requests->forex-python) (2024.8.30)\n"
          ]
        }
      ]
    },
    {
      "cell_type": "code",
      "execution_count": null,
      "metadata": {
        "colab": {
          "base_uri": "https://localhost:8080/"
        },
        "id": "wrxoQMoHg7fl",
        "outputId": "b0b9ef16-72cc-4e47-cfde-c0ddcc309a67"
      },
      "outputs": [
        {
          "output_type": "stream",
          "name": "stdout",
          "text": [
            "Supported currencies:\n",
            "PKR - Pakistani Rupee\n",
            "INR - Indian Rupee\n",
            "SAR - Saudi Riyal\n",
            "AED - UAE Dirham\n",
            "USD - US Dollar\n",
            "GBP - British Pound\n",
            "TRY - Turkish Lira\n",
            "CNY - Chinese Yuan\n",
            "JPY - Japanese Yen\n",
            "MYR - Malaysian Ringgit\n"
          ]
        }
      ],
      "source": [
        "from forex_python.converter import CurrencyRates\n",
        "\n",
        "# Function to convert currency\n",
        "def convert_currency(amount, from_currency, to_currency):\n",
        "    c = CurrencyRates()\n",
        "    try:\n",
        "        result = c.convert(from_currency.upper(), to_currency.upper(), amount)\n",
        "        return result\n",
        "    except Exception as e:\n",
        "        return f\"Error: {str(e)}\"\n",
        "\n",
        "# List of supported currencies\n",
        "currencies = {\n",
        "    'PKR': 'Pakistani Rupee',\n",
        "    'INR': 'Indian Rupee',\n",
        "    'SAR': 'Saudi Riyal',\n",
        "    'AED': 'UAE Dirham',\n",
        "    'USD': 'US Dollar',\n",
        "    'GBP': 'British Pound',\n",
        "    'TRY': 'Turkish Lira',\n",
        "    'CNY': 'Chinese Yuan',\n",
        "    'JPY': 'Japanese Yen',\n",
        "    'MYR': 'Malaysian Ringgit'\n",
        "}\n",
        "\n",
        "# Show supported currencies\n",
        "print(\"Supported currencies:\")\n",
        "for code, name in currencies.items():\n",
        "    print(f\"{code} - {name}\")\n",
        "\n",
        "# Input from the user\n",
        "try:\n",
        "    amount = float(input(\"Enter the amount you want to convert: \"))\n",
        "    from_currency = input(f\"Enter the base currency ({', '.join(currencies.keys())}): \").upper()\n",
        "    to_currency = input(f\"Enter the target currency ({', '.join(currencies.keys())}): \").upper()\n",
        "\n",
        "    # Check if the input currencies are valid\n",
        "    if from_currency in currencies and to_currency in currencies:\n",
        "        converted_amount = convert_currency(amount, from_currency, to_currency)\n",
        "        if isinstance(converted_amount, float):\n",
        "            print(f\"{amount} {from_currency} is equal to {converted_amount:.2f} {to_currency}\")\n",
        "        else:\n",
        "            print(converted_amount)\n",
        "    else:\n",
        "        print(\"Invalid currency code entered.\")\n",
        "except ValueError:\n",
        "    print(\"Invalid amount. Please enter a numeric value.\")\n",
        "\n"
      ]
    }
  ]
}